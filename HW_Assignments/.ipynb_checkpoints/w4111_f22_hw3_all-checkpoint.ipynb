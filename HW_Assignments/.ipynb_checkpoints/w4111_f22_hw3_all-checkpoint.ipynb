{
 "cells": [
  {
   "cell_type": "markdown",
   "metadata": {},
   "source": [
    "<style  type=\"text/css\"> \n",
    "</style>\n",
    "\n",
    "<b><center>\n",
    "<span style=\"font-size: 24pt; line-height: 1.2\">\n",
    "COMS W4111-003/V003 (Fall 2022)<br>Introduction to Databases\n",
    "</span>\n",
    "</center></b>\n",
    "</span><br>\n",
    "<p>\n",
    "<i><center>\n",
    "<span style=\"font-size: 20pt; line-height: 1.2\">\n",
    "Homework 3: Programming and Non-Programming Tracks\n",
    "</span>\n",
    "</center></i>"
   ]
  },
  {
   "cell_type": "markdown",
   "metadata": {},
   "source": [
    "__Note:__ Please replace the information below with your last name, first name and UNI.<br><br>\n",
    "\n",
    "\n",
    "\n",
    "<i>\n",
    "<span style=\"font-size: 20pt; line-height: 1.2\"; >\n",
    "Jin_Jason, hj2602\n",
    "</span>\n",
    "</i>"
   ]
  },
  {
   "cell_type": "markdown",
   "metadata": {},
   "source": [
    "## Introduction\n",
    "\n",
    "### Objectives\n",
    "\n",
    "\n",
    "### Submission\n",
    "1. File > Download as > PDF via latex (.PDF) (Use the \"File\" menu option on the Jupyter notebook tool bar, not the option on the browser tool bar).\n",
    "2. Upload .pdf and .ipynb to GradeScope\n",
    "\n",
    "**This assignment is due December 7, 11:59 pm EDT**\n",
    "\n",
    "\n",
    "### Collaboration\n",
    "- You may use any information you get in TA or Prof. Ferguson's office hours, from lectures or from recitations.\n",
    "- You may use information that you find on the web.\n",
    "- You are NOT allowed to collaborate with other students outside of office hours.\n"
   ]
  },
  {
   "cell_type": "markdown",
   "metadata": {},
   "source": [
    "# Part A: Written Questions"
   ]
  },
  {
   "cell_type": "markdown",
   "metadata": {},
   "source": [
    "## W1: Disk Performance\n",
    "\n",
    "__Question:__\n",
    "\n",
    "Some databases use magnetic disks in a way that only setors in outer traks are\n",
    "used, while setors in inner traks are left unused. What might be the benefits\n",
    "of doing so?"
   ]
  },
  {
   "cell_type": "markdown",
   "metadata": {},
   "source": [
    "__Answer:__"
   ]
  },
  {
   "cell_type": "markdown",
   "metadata": {},
   "source": []
  },
  {
   "cell_type": "markdown",
   "metadata": {},
   "source": [
    "Using only the outer traks can bring multiple benefits. First, since outer traks contain more sectors than the inner tracks, it allows more data to be stored in the given data. So it increases storage capacity. Secondly, it increases the reliability of the data because more sectors can have more copies of the data given the greater storage area. Also since the read/write head does not have to travel as far, there is a quicker data access time. "
   ]
  },
  {
   "cell_type": "markdown",
   "metadata": {},
   "source": [
    "## W2: RAID\n",
    "\n",
    "__Question:__\n",
    "\n",
    "Briefly explain RAID-0, RAID-1 and RAID-5. Briefly explain pros and cons."
   ]
  },
  {
   "cell_type": "markdown",
   "metadata": {},
   "source": [
    "__Answer:__"
   ]
  },
  {
   "cell_type": "markdown",
   "metadata": {},
   "source": []
  },
  {
   "cell_type": "markdown",
   "metadata": {},
   "source": [
    "RAID-0: RAID-0 is a form of RAID that stripes that data across multiple disks and the data is split into blocks across multiple disks for better performance speed. The pros to RAID-0 is that it has greater read/write speed as the data is split into multiple disks helping the accessibility. Con is that there is no redundancy of the data that if one disk fails all the data is lost. This is because of the functionality of RAID-0 provides which is to strip data across multiple disks. \n",
    "\n",
    "RAID-1: RAID-1 is a form of RAID that mirrors data across multiple disks and the data is stored in an identical manner in all of the disks. The pro to RAID-1 is that if offers redundancy that if one disk fails the data is still not lost. So in terms of security and availability of the data RAID-1 performs well. The con to RAID-1 is that the performance speed is rather slow because the data is mirrored across multiple disks and that the data is available one at a time\n",
    "\n",
    "RAID-5: RAID-5 is a form of RAID that stripes data across multiple disks along with parity information stored on each disk. This is used when high performance and availability are both necessary. The pro to RAID-5 is that is offers both redundancy and performance increase because with the parity information whenever there is a disk failure other disks have replication of the data the read/write performance is not affected. The con to RAID-5 is that the parity information also takes storage space that it requires more disk space than the other RAID levels. "
   ]
  },
  {
   "cell_type": "markdown",
   "metadata": {},
   "source": [
    "## W3: Storage Hierarchy\n",
    "\n",
    "__Question:__\n",
    "\n",
    "Briefly explain the following levels of the storage hierarchy.\n",
    "- Cache\n",
    "- Main memory\n",
    "- Disk"
   ]
  },
  {
   "cell_type": "markdown",
   "metadata": {},
   "source": [
    "__Answer:__"
   ]
  },
  {
   "cell_type": "markdown",
   "metadata": {},
   "source": []
  },
  {
   "cell_type": "markdown",
   "metadata": {},
   "source": [
    "Cache: Cache stores data temporaily that it can be accessed more quickly than if it were stored in the disk or main memory. Caches normally helps the performance speed as it is like a small temporary storage space that is in aformat that is ready for immediate use.\n",
    "Main Memory: Main memory is also know as the random access memory that it is the primary memory that computer uses to store data and instructions. Main memory is divided into several sections within itself such as data stack and heap which each as different function within the computer system.\n",
    "Disk: Disk is used to store digital information such as programs, images, and videos. Disks are made up of several concentric tracks which are divided into sectors. And each sector hold certain amount of data and disk is the medium that is used between the computer and other electronic devices."
   ]
  },
  {
   "cell_type": "markdown",
   "metadata": {},
   "source": [
    "## W4: Disks\n",
    "\n",
    "__Question:__\n",
    "\n",
    "Compare the pros and cons of hard disks versus SSDs."
   ]
  },
  {
   "cell_type": "markdown",
   "metadata": {},
   "source": [
    "__Answer:__"
   ]
  },
  {
   "cell_type": "markdown",
   "metadata": {},
   "source": []
  },
  {
   "cell_type": "markdown",
   "metadata": {},
   "source": [
    "Hard disk pros: Less costly, lots of storage space and standardized sizes and replacements are easier, cons: uses a lot of power, lower performance than SSDs.\n",
    "SSD pros: Better performance speed, uses less power, moving parts are more durable than hard disks, cons: less storage space than hard disks, difficult to recover data, more costly, etc."
   ]
  },
  {
   "cell_type": "markdown",
   "metadata": {},
   "source": [
    "## W4: Disk Addressing\n",
    "\n",
    "__Question:__\n",
    "\n",
    "Briefly explain cylinder-sector-head addressing and logical block addressing."
   ]
  },
  {
   "cell_type": "markdown",
   "metadata": {},
   "source": [
    "__Answer:__"
   ]
  },
  {
   "cell_type": "markdown",
   "metadata": {},
   "source": []
  },
  {
   "cell_type": "markdown",
   "metadata": {},
   "source": [
    "Cylinder-sector-head addressing is an older mode of disk addressing that refers to the physical layout of the disk platters. Each platter is divided into tracks, and each track is divided into sectors. The cylinder-sector-head addressing system assigns a unique address to each sector based on the cylinder, sector and head where it is located. This address is used to access data on the disk. Logical block addressing (LBA) is a newer disk addressing system that abstracts the disk's physical layout. Instead of assigning an address to each sector, LBA assigns a single address to each logical block of data on the disk. This allows the disk operating system to access the data without needing to know the physical layout of the disk platters."
   ]
  },
  {
   "cell_type": "markdown",
   "metadata": {},
   "source": [
    "## W5: Record Management\n",
    "\n",
    "__Question:__\n",
    "\n",
    "Briefly explain the concepts of fixed length records and variable length records. What are some complexities that variable length records introduce?"
   ]
  },
  {
   "cell_type": "markdown",
   "metadata": {},
   "source": [
    "__Answer:__"
   ]
  },
  {
   "cell_type": "markdown",
   "metadata": {},
   "source": []
  },
  {
   "cell_type": "markdown",
   "metadata": {},
   "source": [
    "Fixed length records mean that each record has exactly the same length and this may cause wasting a lot of disk space. Variable length record means that the length of each record varies. So there won't be much unnecessary sapce as only the necessary space is used. However, this can create some complexities as storing variable length records within a block is a hard complex operation that needs to be designed. And since any data with different sizes needs to be accomodated with variable length records, the complexity is again introduced to how to define a method to store variable length records within a block so that the record within the block can be easily extracted."
   ]
  },
  {
   "cell_type": "markdown",
   "metadata": {},
   "source": [
    "## W6: File Organization\n",
    "\n",
    "__Question:__\n",
    "\n",
    "Briefly explain and compare heap file organization and sequential file organization."
   ]
  },
  {
   "cell_type": "markdown",
   "metadata": {},
   "source": [
    "__Answer:__"
   ]
  },
  {
   "cell_type": "markdown",
   "metadata": {},
   "source": []
  },
  {
   "cell_type": "markdown",
   "metadata": {},
   "source": [
    "In heap file organization, records are not stored in any particular way and are not sorted. This is useful when the records need to be quickly added and does not require sorting. The downside is since the records are not sorted, querying is slower. In sequential file organization, the records are stored in a particular order and it is also sorted. However, this also has a disadvantage when inserting records to the file as it is has to perform another step of sorting and organizing the data. Therefore, comparing these two different methods of organization, heap file organization can insert records quickly but has an unsorted range of records whereas the sequential file organization has records sorted in particular order for easier access but poor speed in inserting records."
   ]
  },
  {
   "cell_type": "markdown",
   "metadata": {},
   "source": [
    "## W7: Buffer Pool\n",
    "\n",
    "__Question:__\n",
    "\n",
    "What type of query might benefit from using most-recently-used eviction policy for buffer pool management?"
   ]
  },
  {
   "cell_type": "markdown",
   "metadata": {},
   "source": [
    "__Answer:__"
   ]
  },
  {
   "cell_type": "markdown",
   "metadata": {},
   "source": []
  },
  {
   "cell_type": "markdown",
   "metadata": {},
   "source": [
    "The most-recently-used eviction policy helps reduce disk access times as the pages which are used most often will remain in the buffer pool and will not need to be read from the disk. So this policy is useful for queries that require frequent access to the same data pages. It helps with querying real time data, large data sets, or even computationally intensive tasks in particular as it is an effective way to manage memory resources with having the most used pages in the buffer pool and skip the re-reads from disk."
   ]
  },
  {
   "cell_type": "markdown",
   "metadata": {},
   "source": [
    "## W8: Row versus Column Storage\n",
    "\n",
    "__Question:__\n",
    "\n",
    "For which types of queries are column oriented storage beneficial?"
   ]
  },
  {
   "cell_type": "markdown",
   "metadata": {},
   "source": [
    "__Answer:__"
   ]
  },
  {
   "cell_type": "markdown",
   "metadata": {},
   "source": []
  },
  {
   "cell_type": "markdown",
   "metadata": {},
   "source": [
    "Column oriented storage beneficial in queries that have to search through large datasets(big tables). Column oriented storage supports parallel processing so that many processors to work on the same set of computations simulatenously. This increases the scalability within the database. Also it is beneficial when querying a subset of data because column based can only the necessary columns instead of what row-oriented storage needs to do which is to scan several rows of data on the hard disks. Lastly, another benefit with column oriented storage is it is easily compressable as it has a uniform type whereas row oriented storage may have dissimilar data types every row."
   ]
  },
  {
   "cell_type": "markdown",
   "metadata": {},
   "source": [
    "## W9: Multi-table Clustering\n",
    "\n",
    "__Question:__\n",
    "\n",
    "For which types of queries might multi-table clustering be useful?"
   ]
  },
  {
   "cell_type": "markdown",
   "metadata": {},
   "source": [
    "__Answer:__"
   ]
  },
  {
   "cell_type": "markdown",
   "metadata": {},
   "source": []
  },
  {
   "cell_type": "markdown",
   "metadata": {},
   "source": [
    "Multi-table clustering is a type of database optimization technique that helps speed up the execution of complex queries by pre-joining related tables into a single virtual table. This virtual table is used to execute queries more efficiently as if all the tables were joined within the query itself. This technique is particularly helpful when there are queries involving multiple taples and complex joins."
   ]
  },
  {
   "cell_type": "markdown",
   "metadata": {},
   "source": [
    "## W10: Indexes\n",
    "\n",
    "__Question:__\n",
    "\n",
    "Briefly explain and give the pros and cons of B+ tree indexes and hash indexes."
   ]
  },
  {
   "cell_type": "markdown",
   "metadata": {},
   "source": [
    "__Answer:__"
   ]
  },
  {
   "cell_type": "markdown",
   "metadata": {},
   "source": []
  },
  {
   "cell_type": "markdown",
   "metadata": {},
   "source": [
    "B+ tree is balanced binary search tree that ensures all leaf nodes remain at the same height. It also supports random access and sequential access. The pros of B+ tree indexes is that it is an extension of B tree that helps with efficient insertion, deletion and search operations. The con is B+ tree stores data on the leaf nodes and the internal nodes only store the key values. However, in hash indexes the advantage is that it can locate the key values without the need to traverse any type of tree data structure. The con with hash indexes is that it only support equality comparisons when performing lookups and that it does not have any ordering to the data structure. This limits the advantages from the B+ trees."
   ]
  },
  {
   "cell_type": "markdown",
   "metadata": {},
   "source": [
    "## W11: Clustered Index\n",
    "\n",
    "__Question:__\n",
    "\n",
    "Why can there be only one clustered index for a database table?"
   ]
  },
  {
   "cell_type": "markdown",
   "metadata": {},
   "source": [
    "__Answer:__"
   ]
  },
  {
   "cell_type": "markdown",
   "metadata": {},
   "source": []
  },
  {
   "cell_type": "markdown",
   "metadata": {},
   "source": [
    "Only one clustered index is possible for a database table because the data rows can be stored in only one order and the only time the data rows in a table are stroed in sorted order is when the table contains a clustered index. "
   ]
  },
  {
   "cell_type": "markdown",
   "metadata": {},
   "source": [
    "## W12: Composite Indexes\n",
    "\n",
    "__Question:__\n",
    "\n",
    "Consider a table with columns:\n",
    "1. ```lastname```\n",
    "2. ```firstname```\n",
    "\n",
    "Assume common look ups were by ```firstname``` and ```lastname``` together, or just by ```lastname.``` What would be a disadvantage of creating an index on ```firstname```?"
   ]
  },
  {
   "cell_type": "markdown",
   "metadata": {},
   "source": [
    "__Answer:__"
   ]
  },
  {
   "cell_type": "markdown",
   "metadata": {},
   "source": []
  },
  {
   "cell_type": "markdown",
   "metadata": {},
   "source": [
    "The disadvantage of creating an index only on firstname can be problematic for the space on disk and memory when used because index itself occupies a space in the memory and whenever it us used it can slow down other processes. And in specific, when an indexed column is updated, all related indexes as well need to be updated making it such an costly operation for having to create an index that is less unique like the example given in the question prompt."
   ]
  },
  {
   "cell_type": "markdown",
   "metadata": {},
   "source": [
    "## W13: Query Optimization\n",
    "\n",
    "__Question:__\n",
    "\n",
    "Explain the concept of equivalent queries and their importance for query optimization."
   ]
  },
  {
   "cell_type": "markdown",
   "metadata": {},
   "source": [
    "__Answer:__"
   ]
  },
  {
   "cell_type": "markdown",
   "metadata": {},
   "source": []
  },
  {
   "cell_type": "markdown",
   "metadata": {},
   "source": [
    "Equivalent queries are different queries that produce the same results. These queries can be optimized in the same way because they are effectively the same from a computational standpoint. Also, they allow the DBMS to optimize multiple queries at once. When the DBMS encounters multiple equivalent queries, it can optimize them all together, rather than having to optimize each one individually. This is important for query optimization because it allows the database management system (DBMS) to identify and optimize multiple queries that are equivalent, rather than having to optimize each one individually. This can lead to more efficient use of computational resources and can improve the performance of the database overall."
   ]
  },
  {
   "cell_type": "markdown",
   "metadata": {},
   "source": [
    "## W14: Operator Implementation\n",
    "\n",
    "__Question:__\n",
    "\n",
    "There are many possible algorithms for implementing a specific operator, e.g. JOIN. Give a scenario where a Sort-Merge Join is better than a hash join, and vice versa."
   ]
  },
  {
   "cell_type": "markdown",
   "metadata": {},
   "source": [
    "__Answer:__"
   ]
  },
  {
   "cell_type": "markdown",
   "metadata": {},
   "source": []
  },
  {
   "cell_type": "markdown",
   "metadata": {},
   "source": [
    "Sort-Merge Join is best used when joining large tables whereas hash join is best used when joining small tables. For example, imagine a scenario where we have to join large datasets of customer information such as customer's id, firstname, lastname, age, address with another large datasets of customer information such as customer's id, order history, order number, etc. In this scenario, when joining these two large datasets, Sort-Merge join requires only one scan of each table in parallel while Hash join requires multiple scans of each table. Hash join require multiple scans because Hash join algorithm has to first hash each of the tables on the join column and then perform a join operation on the hashed tables. However, Sort-Merge Join does not have to multiple scans like this as it only has to one scan of each table in parallel so it would be much faster in performance for this scenario."
   ]
  },
  {
   "cell_type": "markdown",
   "metadata": {},
   "source": [
    "## W15: Optimizing via Index Creation\n",
    "\n",
    "__Question:__\n",
    "\n",
    "Consider a scenario in which the SQL statement is of the form ```SELECT DISTINCT c1, c2, c3 from T.``` Why might it make sense to create an index to optimize this query?"
   ]
  },
  {
   "cell_type": "markdown",
   "metadata": {},
   "source": [
    "__Answer:__"
   ]
  },
  {
   "cell_type": "markdown",
   "metadata": {},
   "source": []
  },
  {
   "cell_type": "markdown",
   "metadata": {},
   "source": [
    "When the dataset is large and it's difficult to quickly locate and extract values that are unique, indexing will help optimize this query as indexing helps quickly access the required data. An index stores data in a structured way that allows the database to quickly identify and retrieve the data. By creating an index on columns c1, c2, c3 the database can quickly identify the distinct values of these columns from table T. This eventually improves the performance of othis query in specific. "
   ]
  },
  {
   "cell_type": "code",
   "execution_count": null,
   "metadata": {},
   "outputs": [],
   "source": []
  }
 ],
 "metadata": {
  "kernelspec": {
   "display_name": "Python 3 (ipykernel)",
   "language": "python",
   "name": "python3"
  },
  "language_info": {
   "codemirror_mode": {
    "name": "ipython",
    "version": 3
   },
   "file_extension": ".py",
   "mimetype": "text/x-python",
   "name": "python",
   "nbconvert_exporter": "python",
   "pygments_lexer": "ipython3",
   "version": "3.9.12"
  }
 },
 "nbformat": 4,
 "nbformat_minor": 4
}
